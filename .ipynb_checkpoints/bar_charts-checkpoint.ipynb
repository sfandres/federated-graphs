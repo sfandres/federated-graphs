{
 "cells": [
  {
   "cell_type": "markdown",
   "id": "c9bc4093-6d09-4a14-adaf-dc73c8f003b3",
   "metadata": {},
   "source": [
    "**BAR CHARTS**"
   ]
  },
  {
   "cell_type": "markdown",
   "id": "e7ee66cc-7cb5-4574-8701-054296cb3210",
   "metadata": {},
   "source": [
    "***"
   ]
  },
  {
   "cell_type": "markdown",
   "id": "4d6906c7-faa6-466a-b070-b11f086f7572",
   "metadata": {},
   "source": [
    "***"
   ]
  },
  {
   "cell_type": "markdown",
   "id": "7c3af629-9026-4763-a995-b9db12771ba8",
   "metadata": {},
   "source": [
    "# Imports"
   ]
  },
  {
   "cell_type": "code",
   "execution_count": 1,
   "id": "e5f337ae-f34d-42c8-af32-c3f684057baa",
   "metadata": {},
   "outputs": [],
   "source": [
    "import matplotlib.pyplot as plt\n",
    "import numpy as np"
   ]
  },
  {
   "cell_type": "code",
   "execution_count": 2,
   "id": "ae945b7c-f9cc-48bf-a588-46194f33e877",
   "metadata": {},
   "outputs": [],
   "source": [
    "%load_ext pycodestyle_magic"
   ]
  },
  {
   "cell_type": "code",
   "execution_count": 3,
   "id": "d609fafb-4299-4b9f-8636-2a90ab9e652c",
   "metadata": {},
   "outputs": [],
   "source": [
    "%pycodestyle_on"
   ]
  },
  {
   "cell_type": "code",
   "execution_count": 4,
   "id": "586e2b9e-1624-41cd-b0df-b705804662ec",
   "metadata": {},
   "outputs": [],
   "source": [
    "# plt.rc('text', usetex=True)\n",
    "# plt.rc('font', family='serif', size=15)"
   ]
  },
  {
   "cell_type": "markdown",
   "id": "4892d866-3862-4f71-9ae4-3a26a1119824",
   "metadata": {},
   "source": [
    "***"
   ]
  },
  {
   "cell_type": "markdown",
   "id": "a2ec02d1-d890-4814-9d62-4fcbbc85674e",
   "metadata": {},
   "source": [
    "***"
   ]
  },
  {
   "cell_type": "markdown",
   "id": "70436803-0f50-4b00-b5e4-35832f2c0cd9",
   "metadata": {},
   "source": [
    "# Simple bar chart"
   ]
  },
  {
   "cell_type": "markdown",
   "id": "336d3419-028d-4830-81f1-d4d49428a7f7",
   "metadata": {},
   "source": [
    "## Plot function"
   ]
  },
  {
   "cell_type": "code",
   "execution_count": 5,
   "id": "00d583fa-1515-4a9a-8812-3756062c62b6",
   "metadata": {},
   "outputs": [],
   "source": [
    "def simple_bar_plot(data_x, data_y,\n",
    "                    x_axis_label=r'x axis label',\n",
    "                    y_axis_label=r'y axis label',\n",
    "                    plt_name='simple_bar_plot',\n",
    "                    fig_size=(9, 5)):\n",
    "\n",
    "    # Barplot.\n",
    "    fig, ax = plt.subplots(figsize=fig_size)\n",
    "\n",
    "    # Set bar width.\n",
    "    barWidth = 0.4\n",
    "\n",
    "    # Set y values.\n",
    "    y = data_y\n",
    "\n",
    "    # Set position of bar on X axis.\n",
    "    x_pos = np.arange(len(y))\n",
    "\n",
    "    # Make the plot.\n",
    "    plt.bar(x_pos,\n",
    "            y,\n",
    "            width=barWidth,\n",
    "            zorder=3,\n",
    "            color='#005f8a',\n",
    "            edgecolor='black',\n",
    "            linewidth=.25,\n",
    "            label=r'')\n",
    "\n",
    "    plt.ylim(0, np.max(y) + np.max(y) * 0.1)\n",
    "\n",
    "    # Add the numbers on top of each bar.\n",
    "    for x in range(len(x_pos)):\n",
    "        plt.text(x=x,\n",
    "                 y=y[x],\n",
    "                 s=r'{}'.format(y[x]),\n",
    "                 ha='center',\n",
    "                 va='bottom',\n",
    "                 fontsize=13)\n",
    "\n",
    "    # Add xticks on the middle of the group bars.\n",
    "    plt.xticks([r for r in range(len(data_x))], data_x)\n",
    "\n",
    "    # Set grid.\n",
    "    # plt.grid(axis='y',\n",
    "    #          color='gainsboro',\n",
    "    #          linestyle='-',\n",
    "    #          linewidth=0.2,\n",
    "    #          zorder=0)\n",
    "\n",
    "    # Remaining options.\n",
    "    plt.xlabel(x_axis_label, labelpad=15, fontsize=17)\n",
    "    plt.ylabel(y_axis_label, labelpad=15, fontsize=17)\n",
    "\n",
    "    # Adjust margins.\n",
    "    plt.gcf().subplots_adjust(bottom=0.15)\n",
    "    plt.gcf().subplots_adjust(left=0.15)\n",
    "\n",
    "    # Adjust X ticks.\n",
    "    # fig.autofmt_xdate()\n",
    "\n",
    "    # Plot.\n",
    "    plt.show()\n",
    "\n",
    "    # Save resulting figure in two formats.\n",
    "    fig.savefig(f'figures/{plt_name}.png',\n",
    "                bbox_inches='tight')\n",
    "    fig.savefig(f'figures/{plt_name}.pdf',\n",
    "                bbox_inches='tight')"
   ]
  },
  {
   "cell_type": "markdown",
   "id": "f278ef43-0d3e-401d-b13b-c84d06c539fc",
   "metadata": {},
   "source": [
    "## Example"
   ]
  },
  {
   "cell_type": "code",
   "execution_count": 6,
   "id": "1ed8e665-458f-4e34-aa8a-5922ca13d55f",
   "metadata": {},
   "outputs": [
    {
     "data": {
      "image/png": "[encoded data removed]",
      "text/plain": [
       "<Figure size 900x500 with 1 Axes>"
      ]
     },
     "metadata": {},
     "output_type": "display_data"
    }
   ],
   "source": [
    "data_x = [2016 + x for x in range(0, 8)]\n",
    "data_y = [x for x in range(10, 18)]\n",
    "fig_size = (9, 5)\n",
    "\n",
    "simple_bar_plot(\n",
    "    data_x,\n",
    "    data_y,\n",
    "    'Year',\n",
    "    'Number of articles published',\n",
    "    '01-fl-articles',\n",
    "    fig_size\n",
    ")"
   ]
  },
  {
   "cell_type": "markdown",
   "id": "7c66c20f-381d-4236-9ddf-ca80fee9aa56",
   "metadata": {},
   "source": [
    "(intitle:\"federated learning\"), not including citations"
   ]
  },
  {
   "cell_type": "markdown",
   "id": "d6a384b3-b95b-4e24-bec2-d12d4fa0b38d",
   "metadata": {},
   "source": [
    "***"
   ]
  },
  {
   "cell_type": "markdown",
   "id": "f68a3834-d70e-4644-9da2-9c8337ac5625",
   "metadata": {},
   "source": [
    "***"
   ]
  },
  {
   "cell_type": "markdown",
   "id": "39ef3c7d-a2d7-48f1-be35-6a85f5381221",
   "metadata": {},
   "source": [
    "# Bar chart with two columns with shared y axis"
   ]
  },
  {
   "cell_type": "code",
   "execution_count": 18,
   "id": "7436f33c-edfa-4bdf-9e45-85b48ff366c3",
   "metadata": {},
   "outputs": [
    {
     "name": "stderr",
     "output_type": "stream",
     "text": [
      "63:47: W291 trailing whitespace\n"
     ]
    }
   ],
   "source": [
    "def double_bar_plot_shared_axis(data_x, data_y1, data_y2,\n",
    "                                x_axis_label=r'x axis label',\n",
    "                                y_axis_label=r'y1 axis label',\n",
    "                                y1_label='y1 data label',\n",
    "                                y2_label='y2 data label',\n",
    "                                plt_name='double_bar_plot_shareed_axis',\n",
    "                                fig_size=(12, 5)):\n",
    "\n",
    "    # Figure.\n",
    "    # fig = plt.figure(figsize=fig_size)  # Create matplotlib figure\n",
    "    # ax = fig.add_subplot(111)  # Create matplotlib axes\n",
    "\n",
    "    # Barplot.\n",
    "    fig, ax = plt.subplots(figsize=fig_size)\n",
    "\n",
    "    # Create another axes that shares the same x-axis as ax.\n",
    "    # ax2 = ax.twinx()\n",
    "\n",
    "    # Data.\n",
    "    v1 = data_y1\n",
    "    v2 = data_y2\n",
    "\n",
    "    # Position of bar on X axis.\n",
    "    barWidth = 0.42\n",
    "    r1 = np.arange(len(v1))\n",
    "    r2 = [x + barWidth for x in r1]\n",
    "\n",
    "    # Bars.\n",
    "    ax.bar(r1,\n",
    "           v1,\n",
    "           width=barWidth,\n",
    "           color='#005f8a',\n",
    "           edgecolor='black',\n",
    "           linewidth=.1,\n",
    "           label=r'{}'.format(y1_label),\n",
    "           zorder=3)\n",
    "\n",
    "    ax.set_ylabel(y_axis_label, labelpad=15, fontsize=13)  # 17\n",
    "    max_y_value = np.maximum(v1, v2)\n",
    "    ax.set_ylim(0, np.max(max_y_value) + np.max(max_y_value) * 0.1)\n",
    "\n",
    "    ax.bar(r2,\n",
    "           v2,\n",
    "           width=barWidth,\n",
    "           color='#ffa600',\n",
    "           edgecolor='black',\n",
    "           linewidth=.1,\n",
    "           label=r'{}'.format(y2_label),\n",
    "           zorder=3)\n",
    "\n",
    "    # Annotations.\n",
    "    for bar in ax.patches:\n",
    "\n",
    "        # Using Matplotlib's annotate function and\n",
    "        # passing the coordinates where the annotation shall be done\n",
    "        # x-coordinate: bar.get_x() + bar.get_width() / 2\n",
    "        # y-coordinate: bar.get_height()\n",
    "        # free space to be left to make graph pleasing: (0, 8)\n",
    "        # ha and va stand for the horizontal and vertical alignment\n",
    "        ax.annotate(format(bar.get_height(), '.0f'),\n",
    "                    (bar.get_x() + bar.get_width() / 2, bar.get_height()),\n",
    "                    ha='center', va='center',\n",
    "                    xytext=(0, 8),  # size=13,\n",
    "                    textcoords='offset points')\n",
    "\n",
    "    # Set X ticks and label.\n",
    "    plt.xticks([r + barWidth - barWidth/2 for r in range(len(v1))],\n",
    "               data_x)\n",
    "    ax.set_xlabel(x_axis_label, labelpad=15, fontsize=13)  # 17\n",
    "\n",
    "    # Legend.\n",
    "    handles, labels = [], []\n",
    "    for ax in fig.axes:\n",
    "        for h, l in zip(*ax.get_legend_handles_labels()):\n",
    "            handles.append(h)\n",
    "            labels.append(l)\n",
    "\n",
    "    plt.legend(handles, labels)\n",
    "\n",
    "    # Set grid.\n",
    "    # plt.grid(axis='y',\n",
    "    #          color='gainsboro',\n",
    "    #          linestyle='-',\n",
    "    #          linewidth=0.2,\n",
    "    #          zorder=0)\n",
    "\n",
    "    # Margins.\n",
    "    plt.gcf().subplots_adjust(bottom=0.15)\n",
    "    plt.gcf().subplots_adjust(left=0.15)\n",
    "\n",
    "    # Adjust X ticks.\n",
    "    # fig.autofmt_xdate()\n",
    "\n",
    "    # Plot.\n",
    "    plt.show()\n",
    "\n",
    "    # Save resulting figure in two formats.\n",
    "    fig.savefig(f'figures/{plt_name}.png',\n",
    "                bbox_inches='tight')\n",
    "    fig.savefig(f'figures/{plt_name}.pdf',\n",
    "                bbox_inches='tight')"
   ]
  },
  {
   "cell_type": "code",
   "execution_count": 19,
   "id": "495df59a-ef11-4a4d-b771-bae54296ab1b",
   "metadata": {},
   "outputs": [
    {
     "data": {
      "image/png": "[encoded data removed]",
      "text/plain": [
       "<Figure size 1000x500 with 1 Axes>"
      ]
     },
     "metadata": {},
     "output_type": "display_data"
    }
   ],
   "source": [
    "data_x = [2016 + x for x in range(0, 7)]\n",
    "data_scholar = [4, 7, 43, 231, 962, 2360, 4360]\n",
    "data_scopus = [1, 7, 16, 156, 708, 1813, 2864]\n",
    "fig_size = (10, 5)\n",
    "\n",
    "double_bar_plot_shared_axis(\n",
    "    data_x,\n",
    "    data_scholar,\n",
    "    data_scopus,\n",
    "    x_axis_label='Year',\n",
    "    y_axis_label='Number of articles',\n",
    "    y1_label='Google Scholar',\n",
    "    y2_label='Scopus',\n",
    "    plt_name='02-fl-articles',\n",
    "    fig_size=fig_size\n",
    ")"
   ]
  },
  {
   "cell_type": "markdown",
   "id": "72a6941c-a5a3-4bdb-bd1b-f153d3703325",
   "metadata": {},
   "source": [
    "***"
   ]
  },
  {
   "cell_type": "markdown",
   "id": "39e374ab-79a3-4a67-96a7-de10fe91c3c6",
   "metadata": {},
   "source": [
    "***"
   ]
  },
  {
   "cell_type": "markdown",
   "id": "9d11d5bf-cb75-4f34-a72d-81902c3c3453",
   "metadata": {},
   "source": [
    "# Bar chart with two columns without shared y axis"
   ]
  },
  {
   "cell_type": "code",
   "execution_count": 9,
   "id": "4119df2d-0e5a-4aca-8a19-3a789b72eae7",
   "metadata": {},
   "outputs": [],
   "source": [
    "def double_bar_plot_no_shared_axis(data_x, data_y1, data_y2,\n",
    "                                   x_axis_label=r'x axis label',\n",
    "                                   y1_axis_label=r'y1 axis label',\n",
    "                                   y2_axis_label=r'y2 axis label',\n",
    "                                   y1_label='y1 data label',\n",
    "                                   y2_label='y2 data label',\n",
    "                                   plt_name='double_bar_plot_no_shared_axis',\n",
    "                                   fig_size=(12, 5)):\n",
    "\n",
    "    # Figure.\n",
    "    # fig = plt.figure(figsize=fig_size)  # Create matplotlib figure\n",
    "    # ax = fig.add_subplot(111)  # Create matplotlib axes\n",
    "\n",
    "    # Barplot.\n",
    "    fig, ax = plt.subplots(figsize=fig_size)\n",
    "\n",
    "    # Create another axes that shares the same x-axis as ax.\n",
    "    ax2 = ax.twinx()\n",
    "\n",
    "    # Data.\n",
    "    v1 = data_y1\n",
    "    v2 = data_y2\n",
    "\n",
    "    # Position of bar on X axis.\n",
    "    barWidth = 0.4\n",
    "    r1 = np.arange(len(v1))\n",
    "    r2 = [x + barWidth for x in r1]\n",
    "\n",
    "    # Bars.\n",
    "    ax.bar(r1,\n",
    "           v1,\n",
    "           width=barWidth,\n",
    "           color='#005f8a',\n",
    "           edgecolor='black',\n",
    "           linewidth=.25,\n",
    "           label=r'{}'.format(y1_label),\n",
    "           zorder=3)\n",
    "\n",
    "    ax.set_ylabel(y1_axis_label, labelpad=15, fontsize=17)\n",
    "    ax.set_ylim(0, np.max(v1) + np.max(v1) * 0.1)\n",
    "\n",
    "    ax2.bar(r2,\n",
    "            v2,\n",
    "            width=barWidth,\n",
    "            color='#ffa600',\n",
    "            edgecolor='black',\n",
    "            linewidth=.25,\n",
    "            label=r'{}'.format(y2_label),\n",
    "            zorder=3)\n",
    "\n",
    "    ax2.set_ylabel(y2_axis_label, labelpad=15, fontsize=17)\n",
    "    ax2.set_ylim(0, np.max(v2) + np.max(v2) * 0.1)\n",
    "\n",
    "    # Annotations.\n",
    "    for bar in ax.patches:\n",
    "\n",
    "        # Using Matplotlib's annotate function and\n",
    "        # passing the coordinates where the annotation shall be done\n",
    "        # x-coordinate: bar.get_x() + bar.get_width() / 2\n",
    "        # y-coordinate: bar.get_height()\n",
    "        # free space to be left to make graph pleasing: (0, 8)\n",
    "        # ha and va stand for the horizontal and vertical alignment\n",
    "        ax.annotate(format(bar.get_height(), '.0f'),\n",
    "                    (bar.get_x() + bar.get_width() / 2, bar.get_height()),\n",
    "                    ha='center', va='center',\n",
    "                    size=13, xytext=(0, 8),\n",
    "                    textcoords='offset points')\n",
    "\n",
    "    for bar in ax2.patches:\n",
    "\n",
    "        # Using Matplotlib's annotate function and\n",
    "        # passing the coordinates where the annotation shall be done\n",
    "        # x-coordinate: bar.get_x() + bar.get_width() / 2\n",
    "        # y-coordinate: bar.get_height()\n",
    "        # free space to be left to make graph pleasing: (0, 8)\n",
    "        # ha and va stand for the horizontal and vertical alignment\n",
    "        ax2.annotate(format(bar.get_height(), '.0f'),\n",
    "                     (bar.get_x() + bar.get_width() / 2, bar.get_height()),\n",
    "                     ha='center', va='center',\n",
    "                     size=13, xytext=(0, 8),\n",
    "                     textcoords='offset points')\n",
    "\n",
    "    # Set X ticks and label.\n",
    "    plt.xticks([r + barWidth - barWidth/2 for r in range(len(v1))],\n",
    "               data_x)\n",
    "    ax.set_xlabel(x_axis_label, labelpad=15, fontsize=17)\n",
    "\n",
    "    # Legend.\n",
    "    handles, labels = [], []\n",
    "    for ax in fig.axes:\n",
    "        for h, l in zip(*ax.get_legend_handles_labels()):\n",
    "            handles.append(h)\n",
    "            labels.append(l)\n",
    "\n",
    "    plt.legend(handles, labels)\n",
    "\n",
    "    # Set grid.\n",
    "    # plt.grid(axis='y',\n",
    "    #          color='gainsboro',\n",
    "    #          linestyle='-',\n",
    "    #          linewidth=0.2,\n",
    "    #          zorder=0)\n",
    "\n",
    "    # Margins.\n",
    "    plt.gcf().subplots_adjust(bottom=0.15)\n",
    "    plt.gcf().subplots_adjust(left=0.15)\n",
    "\n",
    "    # Adjust X ticks.\n",
    "    # fig.autofmt_xdate()\n",
    "\n",
    "    # Plot.\n",
    "    plt.show()\n",
    "\n",
    "    # Save resulting figure in two formats.\n",
    "    fig.savefig(f'figures/{plt_name}.png',\n",
    "                bbox_inches='tight')\n",
    "    fig.savefig(f'figures/{plt_name}.pdf',\n",
    "                bbox_inches='tight')"
   ]
  },
  {
   "cell_type": "code",
   "execution_count": 10,
   "id": "04902a2c-4ea9-4780-a476-7b477f81ad10",
   "metadata": {},
   "outputs": [
    {
     "data": {
      "image/png": "[encoded data removed]",
      "text/plain": [
       "<Figure size 1200x500 with 2 Axes>"
      ]
     },
     "metadata": {},
     "output_type": "display_data"
    }
   ],
   "source": [
    "data_x = [2015 + x for x in range(0, 8)]\n",
    "data_y1 = [x for x in range(10, 18)]\n",
    "data_y2 = [0, 4, 7, 44, 231, 961, 2340, 3590]\n",
    "fig_size = (12, 5)\n",
    "\n",
    "double_bar_plot_no_shared_axis(\n",
    "    data_x,\n",
    "    data_y1,\n",
    "    data_y2,\n",
    "    x_axis_label='Year',\n",
    "    y1_axis_label='Number of articles published 1',\n",
    "    y2_axis_label='Number of articles published 2',\n",
    "    y1_label='y1 data label',\n",
    "    y2_label='y2 data label',\n",
    "    plt_name='03-fl-articles',\n",
    "    fig_size=fig_size\n",
    ")"
   ]
  },
  {
   "cell_type": "markdown",
   "id": "7f9d9663-f93c-44ce-b9e2-c25ae4e16a58",
   "metadata": {},
   "source": [
    "***"
   ]
  },
  {
   "cell_type": "markdown",
   "id": "c663b91a-6f9a-4dac-b7c2-7c9c38974f91",
   "metadata": {},
   "source": [
    "***"
   ]
  },
  {
   "cell_type": "code",
   "execution_count": null,
   "id": "b50c8d5b-c73a-45df-aa12-e5b6a1000423",
   "metadata": {},
   "outputs": [],
   "source": []
  }
 ],
 "metadata": {
  "kernelspec": {
   "display_name": "graphs-venv",
   "language": "python",
   "name": "graphs-venv"
  },
  "language_info": {
   "codemirror_mode": {
    "name": "ipython",
    "version": 3
   },
   "file_extension": ".py",
   "mimetype": "text/x-python",
   "name": "python",
   "nbconvert_exporter": "python",
   "pygments_lexer": "ipython3",
   "version": "3.8.10"
  }
 },
 "nbformat": 4,
 "nbformat_minor": 5
}
