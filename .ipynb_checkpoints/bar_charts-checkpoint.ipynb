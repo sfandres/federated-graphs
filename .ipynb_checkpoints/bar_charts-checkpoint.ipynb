{
 "cells": [
  {
   "cell_type": "markdown",
   "id": "c9bc4093-6d09-4a14-adaf-dc73c8f003b3",
   "metadata": {},
   "source": [
    "**BAR CHARTS**"
   ]
  },
  {
   "cell_type": "markdown",
   "id": "e7ee66cc-7cb5-4574-8701-054296cb3210",
   "metadata": {},
   "source": [
    "***"
   ]
  },
  {
   "cell_type": "markdown",
   "id": "4d6906c7-faa6-466a-b070-b11f086f7572",
   "metadata": {},
   "source": [
    "***"
   ]
  },
  {
   "cell_type": "markdown",
   "id": "7c3af629-9026-4763-a995-b9db12771ba8",
   "metadata": {},
   "source": [
    "# Imports"
   ]
  },
  {
   "cell_type": "code",
   "execution_count": 1,
   "id": "e5f337ae-f34d-42c8-af32-c3f684057baa",
   "metadata": {},
   "outputs": [],
   "source": [
    "import matplotlib.pyplot as plt\n",
    "import numpy as np"
   ]
  },
  {
   "cell_type": "code",
   "execution_count": 2,
   "id": "ae945b7c-f9cc-48bf-a588-46194f33e877",
   "metadata": {},
   "outputs": [],
   "source": [
    "%load_ext pycodestyle_magic"
   ]
  },
  {
   "cell_type": "code",
   "execution_count": 3,
   "id": "d609fafb-4299-4b9f-8636-2a90ab9e652c",
   "metadata": {},
   "outputs": [],
   "source": [
    "%pycodestyle_on"
   ]
  },
  {
   "cell_type": "markdown",
   "id": "4892d866-3862-4f71-9ae4-3a26a1119824",
   "metadata": {},
   "source": [
    "***"
   ]
  },
  {
   "cell_type": "markdown",
   "id": "a2ec02d1-d890-4814-9d62-4fcbbc85674e",
   "metadata": {},
   "source": [
    "***"
   ]
  },
  {
   "cell_type": "markdown",
   "id": "70436803-0f50-4b00-b5e4-35832f2c0cd9",
   "metadata": {},
   "source": [
    "# Simple bar chart"
   ]
  },
  {
   "cell_type": "markdown",
   "id": "336d3419-028d-4830-81f1-d4d49428a7f7",
   "metadata": {},
   "source": [
    "## Plot function"
   ]
  },
  {
   "cell_type": "code",
   "execution_count": 4,
   "id": "00d583fa-1515-4a9a-8812-3756062c62b6",
   "metadata": {},
   "outputs": [],
   "source": [
    "def bar_plot(data_x, data_y, fig_size):\n",
    "\n",
    "    # Barplot.\n",
    "    fig, ax = plt.subplots(figsize=fig_size)\n",
    "    plt_name = 'bar_plot'\n",
    "\n",
    "    # Set bar width.\n",
    "    barWidth = 0.4\n",
    "\n",
    "    # Set y values.\n",
    "    y = data_y\n",
    "    y_axis_label = r'y axis label'\n",
    "\n",
    "    # Set position of bar on X axis.\n",
    "    x_pos = np.arange(len(y))\n",
    "    x_axis_label = r'x axis label'\n",
    "\n",
    "    # Make the plot.\n",
    "    plt.bar(x_pos,\n",
    "            y,\n",
    "            width=barWidth,\n",
    "            zorder=3,\n",
    "            color='#005f8a',\n",
    "            edgecolor='white',\n",
    "            label=r'')\n",
    "\n",
    "    # Add the numbers on top of each bar.\n",
    "    for x in range(len(x_pos)):\n",
    "        plt.text(x=x,\n",
    "                 y=y[x],\n",
    "                 s=f'{y[x]:.1f}',\n",
    "                 ha='center',\n",
    "                 va='bottom',\n",
    "                 fontsize=10)\n",
    "\n",
    "    # Set grid.\n",
    "    plt.grid(axis='y',\n",
    "             color='gainsboro',\n",
    "             linestyle='-',\n",
    "             linewidth=0.2,\n",
    "             zorder=0)\n",
    "\n",
    "    # Add xticks on the middle of the group bars.\n",
    "    plt.xticks([r for r in range(len(data_x))], data_x)\n",
    "\n",
    "    # Remaining options.\n",
    "    plt.xlabel(x_axis_label, labelpad=15)\n",
    "    plt.ylabel(y_axis_label, labelpad=15)\n",
    "    plt.gcf().subplots_adjust(bottom=0.15)\n",
    "    plt.gcf().subplots_adjust(left=0.15)\n",
    "    plt.ylim(0, np.max(y) + 2)\n",
    "    plt.show()\n",
    "\n",
    "    # Save resulting figure in two formats.\n",
    "    fig.savefig(f'figures/{plt_name}.png',\n",
    "                bbox_inches='tight')\n",
    "    fig.savefig(f'figures/{plt_name}.pdf',\n",
    "                bbox_inches='tight')"
   ]
  },
  {
   "cell_type": "markdown",
   "id": "f278ef43-0d3e-401d-b13b-c84d06c539fc",
   "metadata": {},
   "source": [
    "## Example"
   ]
  },
  {
   "cell_type": "code",
   "execution_count": 5,
   "id": "1ed8e665-458f-4e34-aa8a-5922ca13d55f",
   "metadata": {},
   "outputs": [
    {
     "data": {
      "image/png": "[encoded data removed]",
      "text/plain": [
       "<Figure size 900x500 with 1 Axes>"
      ]
     },
     "metadata": {},
     "output_type": "display_data"
    }
   ],
   "source": [
    "data_x = [2016 + x for x in range(0, 7)]\n",
    "data_y = [x for x in range(10, 17)]\n",
    "fig_size = (9, 5)\n",
    "\n",
    "bar_plot(data_x, data_y, fig_size)"
   ]
  },
  {
   "cell_type": "markdown",
   "id": "72a6941c-a5a3-4bdb-bd1b-f153d3703325",
   "metadata": {},
   "source": [
    "***"
   ]
  },
  {
   "cell_type": "markdown",
   "id": "39e374ab-79a3-4a67-96a7-de10fe91c3c6",
   "metadata": {},
   "source": [
    "***"
   ]
  },
  {
   "cell_type": "code",
   "execution_count": null,
   "id": "32004785-1069-4bcd-abb1-148070d1537e",
   "metadata": {},
   "outputs": [],
   "source": []
  }
 ],
 "metadata": {
  "kernelspec": {
   "display_name": "graphs-venv",
   "language": "python",
   "name": "graphs-venv"
  },
  "language_info": {
   "codemirror_mode": {
    "name": "ipython",
    "version": 3
   },
   "file_extension": ".py",
   "mimetype": "text/x-python",
   "name": "python",
   "nbconvert_exporter": "python",
   "pygments_lexer": "ipython3",
   "version": "3.8.10"
  }
 },
 "nbformat": 4,
 "nbformat_minor": 5
}
